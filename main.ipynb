{
 "cells": [
  {
   "cell_type": "code",
   "execution_count": 48,
   "metadata": {},
   "outputs": [],
   "source": [
    "import requests\n",
    "from bs4 import BeautifulSoup\n",
    "import csv\n",
    "import time\n",
    "import pandas as pd\n",
    "import lxml\n",
    "import re\n",
    "import numpy as np"
   ]
  },
  {
   "cell_type": "markdown",
   "metadata": {},
   "source": [
    "This saves HLTV html pages of a certain year's players under all LAN events. "
   ]
  },
  {
   "cell_type": "code",
   "execution_count": 49,
   "metadata": {},
   "outputs": [],
   "source": [
    "# def oneYear(year):\n",
    "#     return 'startDate=' + str(year) + '-01-01&endDate=' + str(year) + '-12-31'\n",
    "\n",
    "\n",
    "# for year in np.arange(2013,2020):\n",
    "#     url = 'https://www.hltv.org/stats/players?' + oneYear(year) + '&matchType=Lan'\n",
    "#     temp = requests.get(url).text\n",
    "#     with open('players' + str(year) + '.html', 'w', encoding='utf-8') as f:\n",
    "#         f.write(temp)"
   ]
  },
  {
   "cell_type": "markdown",
   "metadata": {},
   "source": [
    "Filtering process"
   ]
  },
  {
   "cell_type": "code",
   "execution_count": 37,
   "metadata": {},
   "outputs": [],
   "source": [
    "def allplayersonLAN(year):\n",
    "    with open('players' + str(year) + '.html','r',encoding='utf-8') as players_html:\n",
    "        soup = BeautifulSoup(players_html,'lxml')\n",
    "    temp = {}\n",
    "    for player in soup.find_all('td',class_='playerCol'):\n",
    "        temp[player.text] = 'https://hltv.org' + player.find('a')['href']\n",
    "    return temp"
   ]
  },
  {
   "cell_type": "code",
   "execution_count": 34,
   "metadata": {},
   "outputs": [],
   "source": [
    "def againstTop50(row):\n",
    "    name = row.name\n",
    "    url = row.Webpage\n",
    "    src = requests.get(url).text\n",
    "    soup = BeautifulSoup(src,'lxml')\n",
    "    for i in soup.find_all('div',class_='col-custom'):\n",
    "        if i.text.find('top 50 opponents') > -1:\n",
    "            mapsplayed = i.find('div',class_='rating-maps').text.split()[0].split('(')[1]\n",
    "            if int(mapsplayed) >= 20:\n",
    "                return True\n",
    "    time.sleep(0.5)\n",
    "    return False\n"
   ]
  },
  {
   "cell_type": "markdown",
   "metadata": {},
   "source": [
    "This function combines the two above to filter out players that may have not participated in enough important events."
   ]
  },
  {
   "cell_type": "code",
   "execution_count": 1,
   "metadata": {},
   "outputs": [],
   "source": [
    "def exportFilteredPlayers(year):  \n",
    "    tab = pd.DataFrame.from_dict(allplayersonLAN(year),orient='index',columns=['Webpage'])\n",
    "    tab.insert(tab.shape[1],'AgainstTop50',tab.apply(againstTop50,axis=1))\n",
    "    tab[tab.AgainstTop50].to_csv('players' + str(year) + '.csv')\n",
    "    return"
   ]
  },
  {
   "cell_type": "markdown",
   "metadata": {},
   "source": [
    "This function obtains the HLTV's own top 20 players. "
   ]
  },
  {
   "cell_type": "code",
   "execution_count": 87,
   "metadata": {},
   "outputs": [],
   "source": [
    "def getTop20(year, index):\n",
    "    url = 'https://www.hltv.org/news/' + str(index) + '/top-20-players-of-' + str(year) + '-introduction'\n",
    "    src = requests.get(url).text\n",
    "    soup = BeautifulSoup(src,'lxml')\n",
    "    arr = np.array([])\n",
    "    \n",
    "    if year in [2016, 2017]:\n",
    "        for i in soup.find_all('tr'):\n",
    "            arr = np.concatenate((arr,[i.text.split()[2][1:-1]]))\n",
    "    elif year in [2018, 2019]:\n",
    "        top20 = soup.find_all('blockquote')[1].text.strip()\n",
    "        top20list = re.compile(\"[0-9]+\\.  \").split(top20)\n",
    "        for player in top20list:\n",
    "            if not len(player) <= 1:\n",
    "                arr = np.concatenate((arr,[player.split('\"')[1]]))\n",
    "    else:\n",
    "        print('Error')\n",
    "    return arr\n",
    "\n",
    "def aggregateTop20(temp):\n",
    "    top20 = np.array([])\n",
    "    for year in temp:\n",
    "        top20 = np.concatenate((top20,getTop20(year, temp[year])))   \n",
    "    df = pd.DataFrame(top20.reshape(4,20).swapaxes(0,1), columns=list(temp.keys()))\n",
    "    return df\n",
    "\n",
    "hltvTop20Index = {2016: 19558, 2017: 22348, 2018: 25735, 2019: 28749}\n",
    "top20DF = aggregateTop20(hltvTop20Index)\n",
    "top20DF"
   ]
  },
  {
   "cell_type": "code",
   "execution_count": 126,
   "metadata": {},
   "outputs": [
    {
     "data": {
      "text/html": [
       "<div>\n",
       "<style scoped>\n",
       "    .dataframe tbody tr th:only-of-type {\n",
       "        vertical-align: middle;\n",
       "    }\n",
       "\n",
       "    .dataframe tbody tr th {\n",
       "        vertical-align: top;\n",
       "    }\n",
       "\n",
       "    .dataframe thead th {\n",
       "        text-align: right;\n",
       "    }\n",
       "</style>\n",
       "<table border=\"1\" class=\"dataframe\">\n",
       "  <thead>\n",
       "    <tr style=\"text-align: right;\">\n",
       "      <th></th>\n",
       "      <th>Webpage</th>\n",
       "      <th>HLTV Top 20</th>\n",
       "    </tr>\n",
       "  </thead>\n",
       "  <tbody>\n",
       "    <tr>\n",
       "      <td>ZywOo</td>\n",
       "      <td>https://hltv.org/stats/players/11893/ZywOo?sta...</td>\n",
       "      <td>True</td>\n",
       "    </tr>\n",
       "    <tr>\n",
       "      <td>s1mple</td>\n",
       "      <td>https://hltv.org/stats/players/7998/s1mple?sta...</td>\n",
       "      <td>True</td>\n",
       "    </tr>\n",
       "    <tr>\n",
       "      <td>device</td>\n",
       "      <td>https://hltv.org/stats/players/7592/device?sta...</td>\n",
       "      <td>True</td>\n",
       "    </tr>\n",
       "    <tr>\n",
       "      <td>xsepower</td>\n",
       "      <td>https://hltv.org/stats/players/12733/xsepower?...</td>\n",
       "      <td>False</td>\n",
       "    </tr>\n",
       "    <tr>\n",
       "      <td>EliGE</td>\n",
       "      <td>https://hltv.org/stats/players/8738/EliGE?star...</td>\n",
       "      <td>True</td>\n",
       "    </tr>\n",
       "    <tr>\n",
       "      <td>...</td>\n",
       "      <td>...</td>\n",
       "      <td>...</td>\n",
       "    </tr>\n",
       "    <tr>\n",
       "      <td>daps</td>\n",
       "      <td>https://hltv.org/stats/players/8521/daps?start...</td>\n",
       "      <td>False</td>\n",
       "    </tr>\n",
       "    <tr>\n",
       "      <td>tiziaN</td>\n",
       "      <td>https://hltv.org/stats/players/5796/tiziaN?sta...</td>\n",
       "      <td>False</td>\n",
       "    </tr>\n",
       "    <tr>\n",
       "      <td>HUNDEN</td>\n",
       "      <td>https://hltv.org/stats/players/7415/HUNDEN?sta...</td>\n",
       "      <td>False</td>\n",
       "    </tr>\n",
       "    <tr>\n",
       "      <td>advent</td>\n",
       "      <td>https://hltv.org/stats/players/8600/advent?sta...</td>\n",
       "      <td>False</td>\n",
       "    </tr>\n",
       "    <tr>\n",
       "      <td>gob b</td>\n",
       "      <td>https://hltv.org/stats/players/136/gob%20b?sta...</td>\n",
       "      <td>False</td>\n",
       "    </tr>\n",
       "  </tbody>\n",
       "</table>\n",
       "<p>186 rows × 2 columns</p>\n",
       "</div>"
      ],
      "text/plain": [
       "                                                    Webpage  HLTV Top 20\n",
       "ZywOo     https://hltv.org/stats/players/11893/ZywOo?sta...         True\n",
       "s1mple    https://hltv.org/stats/players/7998/s1mple?sta...         True\n",
       "device    https://hltv.org/stats/players/7592/device?sta...         True\n",
       "xsepower  https://hltv.org/stats/players/12733/xsepower?...        False\n",
       "EliGE     https://hltv.org/stats/players/8738/EliGE?star...         True\n",
       "...                                                     ...          ...\n",
       "daps      https://hltv.org/stats/players/8521/daps?start...        False\n",
       "tiziaN    https://hltv.org/stats/players/5796/tiziaN?sta...        False\n",
       "HUNDEN    https://hltv.org/stats/players/7415/HUNDEN?sta...        False\n",
       "advent    https://hltv.org/stats/players/8600/advent?sta...        False\n",
       "gob b     https://hltv.org/stats/players/136/gob%20b?sta...        False\n",
       "\n",
       "[186 rows x 2 columns]"
      ]
     },
     "execution_count": 126,
     "metadata": {},
     "output_type": "execute_result"
    }
   ],
   "source": [
    "\n",
    "def checkIfTop20(row,top20):\n",
    "    name = row.name\n",
    "    if top20.str.contains(name,regex=False).sum() > 0:\n",
    "        return True\n",
    "    else:    \n",
    "        return False\n",
    "\n",
    "\n",
    "df = pd.read_csv('filteredplayers/players2019.csv',index_col=0).drop('AgainstTop50',axis=1)\n",
    "df.insert(df.shape[1],'HLTV Top 20',df.apply(checkIfTop20,axis=1,args=(top20DF.loc[:,2019],)))\n",
    "df\n"
   ]
  },
  {
   "cell_type": "code",
   "execution_count": null,
   "metadata": {},
   "outputs": [],
   "source": []
  },
  {
   "cell_type": "markdown",
   "metadata": {},
   "source": [
    "possible features\n",
    "- ADR\n",
    "- KPR\n",
    "- DPR\n",
    "- APR\n",
    "- IMPACT\n",
    "- KAST\n",
    "- RATING\n",
    "- CONSISTENCY\n",
    "- k-d diff\n",
    "- % of maps with 1+ rating\n",
    "- HS%"
   ]
  },
  {
   "cell_type": "code",
   "execution_count": null,
   "metadata": {},
   "outputs": [],
   "source": []
  }
 ],
 "metadata": {
  "kernelspec": {
   "display_name": "Python 3",
   "language": "python",
   "name": "python3"
  },
  "language_info": {
   "codemirror_mode": {
    "name": "ipython",
    "version": 3
   },
   "file_extension": ".py",
   "mimetype": "text/x-python",
   "name": "python",
   "nbconvert_exporter": "python",
   "pygments_lexer": "ipython3",
   "version": "3.7.4"
  }
 },
 "nbformat": 4,
 "nbformat_minor": 2
}
